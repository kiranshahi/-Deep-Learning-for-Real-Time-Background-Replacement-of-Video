{
 "cells": [
  {
   "cell_type": "code",
   "execution_count": 1,
   "id": "78e3fb79",
   "metadata": {},
   "outputs": [],
   "source": [
    "import tensorflow as tf\n",
    "import cv2\n",
    "import numpy as np\n",
    "import os\n",
    "import matplotlib.pyplot as plt\n",
    "import time"
   ]
  },
  {
   "cell_type": "code",
   "execution_count": 2,
   "id": "935561d6",
   "metadata": {},
   "outputs": [],
   "source": [
    "# model = tf.keras.models.load_model(\"my-models/resnet_unet_convlstm_aug_val.h5\")\n",
    "model = tf.keras.models.load_model(\"../my-models/set3.h5\")"
   ]
  },
  {
   "cell_type": "code",
   "execution_count": 3,
   "id": "ffaa981a",
   "metadata": {},
   "outputs": [],
   "source": [
    "H = 256\n",
    "W = 256"
   ]
  },
  {
   "cell_type": "code",
   "execution_count": 4,
   "id": "0fa3a067",
   "metadata": {},
   "outputs": [],
   "source": [
    "prev_frame_time = 0\n",
    "new_frame_time = 0"
   ]
  },
  {
   "cell_type": "code",
   "execution_count": 5,
   "id": "2849860b",
   "metadata": {},
   "outputs": [
    {
     "name": "stdout",
     "output_type": "stream",
     "text": [
      "1/1 [==============================] - 7s 7s/step\n"
     ]
    },
    {
     "ename": "IndexError",
     "evalue": "index 14 is out of bounds for axis 0 with size 1",
     "output_type": "error",
     "traceback": [
      "\u001b[1;31m---------------------------------------------------------------------------\u001b[0m",
      "\u001b[1;31mIndexError\u001b[0m                                Traceback (most recent call last)",
      "Input \u001b[1;32mIn [5]\u001b[0m, in \u001b[0;36m<cell line: 19>\u001b[1;34m()\u001b[0m\n\u001b[0;32m     28\u001b[0m frame \u001b[38;5;241m=\u001b[39m frame \u001b[38;5;241m/\u001b[39m \u001b[38;5;241m255.0\u001b[39m\n\u001b[0;32m     32\u001b[0m mask \u001b[38;5;241m=\u001b[39m model\u001b[38;5;241m.\u001b[39mpredict(frame)[\u001b[38;5;241m0\u001b[39m]\n\u001b[1;32m---> 33\u001b[0m last_mask \u001b[38;5;241m=\u001b[39m \u001b[43mmask\u001b[49m\u001b[43m[\u001b[49m\u001b[38;5;241;43m14\u001b[39;49m\u001b[43m]\u001b[49m\n\u001b[0;32m     34\u001b[0m last_mask \u001b[38;5;241m=\u001b[39m cv2\u001b[38;5;241m.\u001b[39mresize(last_mask, (w, h))\n\u001b[0;32m     36\u001b[0m last_mask \u001b[38;5;241m=\u001b[39m last_mask \u001b[38;5;241m>\u001b[39m \u001b[38;5;241m0.5\u001b[39m\n",
      "\u001b[1;31mIndexError\u001b[0m: index 14 is out of bounds for axis 0 with size 1"
     ]
    }
   ],
   "source": [
    "imgBg = cv2.imread(\"../bg/1.jpg\")\n",
    "listImg = os.listdir(\"../bg\")\n",
    "indexImg = 0\n",
    "\n",
    "imgList = []\n",
    "for imgPath in listImg:\n",
    "    img = cv2.imread(f'../bg/{imgPath}')\n",
    "    imgList.append(img)\n",
    "\n",
    "\n",
    "cap = cv2.VideoCapture(0)\n",
    "\n",
    "myframes = []\n",
    "loop_count = 0\n",
    "isFirst = True\n",
    "input_frames = np.empty((1, 15, 256, 256, 3))\n",
    "\n",
    "# loop through frame\n",
    "while cap.isOpened():\n",
    "    ret, frame = cap.read()\n",
    "\n",
    "    h, w, _ = frame.shape\n",
    "    ori_frame = frame\n",
    "\n",
    "    frame = cv2.resize(frame, (W, H))\n",
    "    frame = np.expand_dims(frame, axis=0)\n",
    "    frame = np.expand_dims(frame, axis=0)\n",
    "    frame = frame / 255.0\n",
    "    \n",
    "    \n",
    "\n",
    "    mask = model.predict(frame)[0]\n",
    "    last_mask = mask[0]\n",
    "    last_mask = cv2.resize(last_mask, (w, h))\n",
    "    \n",
    "    last_mask = last_mask > 0.5\n",
    "    last_mask = last_mask.astype(np.float32)\n",
    "    last_mask = np.expand_dims(last_mask, axis=-1)\n",
    "    \n",
    "    photo_mask = last_mask\n",
    "    background_mask = np.abs(1 - last_mask)\n",
    "\n",
    "    masked_frame = ori_frame * photo_mask\n",
    "\n",
    "    background_mask = np.concatenate([background_mask, background_mask, background_mask], axis=-1)\n",
    "    background_mask = background_mask * imgList[indexImg]\n",
    "    final_frame = masked_frame + background_mask\n",
    "    final_frame = final_frame.astype(np.uint8)\n",
    "    \n",
    "    font = cv2.FONT_HERSHEY_SIMPLEX\n",
    "    new_frame_time = time.time()\n",
    "    fps = 1/(new_frame_time-prev_frame_time)\n",
    "    prev_frame_time = new_frame_time\n",
    "    fps = int(fps)\n",
    "    fps = str(fps)\n",
    "    \n",
    "    cv2.putText(final_frame, fps, (7, 70), font, 3, (100, 255, 0), 3, cv2.LINE_AA)\n",
    "\n",
    "    \n",
    "    while(loop_count < 4):\n",
    "        myframes.append(final_frame)\n",
    "        loop_count = loop_count + 1\n",
    "        \n",
    "    # show result to user on desktop\n",
    "    cv2.imshow('Bg replacement', final_frame)\n",
    "\n",
    "    # Break loop outcome\n",
    "    key = cv2.waitKey(1)\n",
    "    if key == ord('a'):\n",
    "        if indexImg > 0:\n",
    "            indexImg -= 1\n",
    "    elif key == ord('d'):\n",
    "        if indexImg < len(imgList) - 1:\n",
    "            indexImg += 1\n",
    "    elif key == ord('q'):\n",
    "        break\n",
    "\n",
    "# Releases webcam or caputer device\n",
    "cap.release()\n",
    "# Closes imshow frame\n",
    "cv2.destroyAllWindows()"
   ]
  },
  {
   "cell_type": "code",
   "execution_count": null,
   "id": "d4fb33c7",
   "metadata": {},
   "outputs": [],
   "source": [
    "count = 0\n",
    "fig, axes = plt.subplots(2, 2, figsize=(10, 8))\n",
    "\n",
    "for idx, ax in enumerate(axes.flat):\n",
    "    ax.imshow(cv2.cvtColor(myframes[count], cv2.COLOR_BGR2RGB))\n",
    "    ax.set_title(f\"Frame {idx + 1}\")\n",
    "    ax.axis(\"off\")\n",
    "    count = count + 1\n",
    "\n",
    "plt.show()"
   ]
  },
  {
   "cell_type": "code",
   "execution_count": null,
   "id": "a32fa69e",
   "metadata": {},
   "outputs": [],
   "source": [
    "#results = model.evaluate(x_test, y_test, batch_size=128)"
   ]
  },
  {
   "cell_type": "code",
   "execution_count": null,
   "id": "e0d66247",
   "metadata": {},
   "outputs": [],
   "source": [
    "myframes = input_frames[0]\n",
    "\n",
    "count = 0\n",
    "fig, axes = plt.subplots(2, 2, figsize=(10, 8))\n",
    "\n",
    "for idx, ax in enumerate(axes.flat):\n",
    "    ax.imshow(cv2.cvtColor((myframes[count]*255).astype(np.uint8),cv2.COLOR_BGR2RGB))\n",
    "    ax.set_title(f\"Frame {idx + 1}\")\n",
    "    ax.axis(\"off\")\n",
    "    count = count + 1\n",
    "\n",
    "plt.show()"
   ]
  },
  {
   "cell_type": "code",
   "execution_count": null,
   "id": "34c27b3e",
   "metadata": {},
   "outputs": [],
   "source": [
    "# Releases webcam or caputer device\n",
    "cap.release()\n",
    "# Closes imshow frame\n",
    "cv2.destroyAllWindows()"
   ]
  },
  {
   "cell_type": "code",
   "execution_count": null,
   "id": "1e41012c",
   "metadata": {},
   "outputs": [],
   "source": []
  }
 ],
 "metadata": {
  "kernelspec": {
   "display_name": "Python 3 (ipykernel)",
   "language": "python",
   "name": "python3"
  },
  "language_info": {
   "codemirror_mode": {
    "name": "ipython",
    "version": 3
   },
   "file_extension": ".py",
   "mimetype": "text/x-python",
   "name": "python",
   "nbconvert_exporter": "python",
   "pygments_lexer": "ipython3",
   "version": "3.10.4"
  }
 },
 "nbformat": 4,
 "nbformat_minor": 5
}
