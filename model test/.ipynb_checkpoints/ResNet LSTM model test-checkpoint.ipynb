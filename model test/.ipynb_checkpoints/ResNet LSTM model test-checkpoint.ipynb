{
 "cells": [
  {
   "cell_type": "code",
   "execution_count": 1,
   "id": "78e3fb79",
   "metadata": {},
   "outputs": [],
   "source": [
    "import tensorflow as tf\n",
    "import cv2\n",
    "import numpy as np\n",
    "import os\n",
    "import matplotlib.pyplot as plt\n",
    "import time"
   ]
  },
  {
   "cell_type": "code",
   "execution_count": 2,
   "id": "935561d6",
   "metadata": {},
   "outputs": [
    {
     "ename": "OSError",
     "evalue": "No file or directory found at resnet_unet.h5",
     "output_type": "error",
     "traceback": [
      "\u001b[1;31m---------------------------------------------------------------------------\u001b[0m",
      "\u001b[1;31mOSError\u001b[0m                                   Traceback (most recent call last)",
      "Input \u001b[1;32mIn [2]\u001b[0m, in \u001b[0;36m<cell line: 1>\u001b[1;34m()\u001b[0m\n\u001b[1;32m----> 1\u001b[0m model \u001b[38;5;241m=\u001b[39m \u001b[43mtf\u001b[49m\u001b[38;5;241;43m.\u001b[39;49m\u001b[43mkeras\u001b[49m\u001b[38;5;241;43m.\u001b[39;49m\u001b[43mmodels\u001b[49m\u001b[38;5;241;43m.\u001b[39;49m\u001b[43mload_model\u001b[49m\u001b[43m(\u001b[49m\u001b[38;5;124;43m\"\u001b[39;49m\u001b[38;5;124;43mresnet_unet.h5\u001b[39;49m\u001b[38;5;124;43m\"\u001b[39;49m\u001b[43m)\u001b[49m\n",
      "File \u001b[1;32m~\\anaconda3\\envs\\tf\\lib\\site-packages\\keras\\utils\\traceback_utils.py:67\u001b[0m, in \u001b[0;36mfilter_traceback.<locals>.error_handler\u001b[1;34m(*args, **kwargs)\u001b[0m\n\u001b[0;32m     65\u001b[0m \u001b[38;5;28;01mexcept\u001b[39;00m \u001b[38;5;167;01mException\u001b[39;00m \u001b[38;5;28;01mas\u001b[39;00m e:  \u001b[38;5;66;03m# pylint: disable=broad-except\u001b[39;00m\n\u001b[0;32m     66\u001b[0m   filtered_tb \u001b[38;5;241m=\u001b[39m _process_traceback_frames(e\u001b[38;5;241m.\u001b[39m__traceback__)\n\u001b[1;32m---> 67\u001b[0m   \u001b[38;5;28;01mraise\u001b[39;00m e\u001b[38;5;241m.\u001b[39mwith_traceback(filtered_tb) \u001b[38;5;28;01mfrom\u001b[39;00m \u001b[38;5;28mNone\u001b[39m\n\u001b[0;32m     68\u001b[0m \u001b[38;5;28;01mfinally\u001b[39;00m:\n\u001b[0;32m     69\u001b[0m   \u001b[38;5;28;01mdel\u001b[39;00m filtered_tb\n",
      "File \u001b[1;32m~\\anaconda3\\envs\\tf\\lib\\site-packages\\keras\\saving\\save.py:206\u001b[0m, in \u001b[0;36mload_model\u001b[1;34m(filepath, custom_objects, compile, options)\u001b[0m\n\u001b[0;32m    204\u001b[0m \u001b[38;5;28;01mif\u001b[39;00m \u001b[38;5;28misinstance\u001b[39m(filepath_str, \u001b[38;5;28mstr\u001b[39m):\n\u001b[0;32m    205\u001b[0m   \u001b[38;5;28;01mif\u001b[39;00m \u001b[38;5;129;01mnot\u001b[39;00m tf\u001b[38;5;241m.\u001b[39mio\u001b[38;5;241m.\u001b[39mgfile\u001b[38;5;241m.\u001b[39mexists(filepath_str):\n\u001b[1;32m--> 206\u001b[0m     \u001b[38;5;28;01mraise\u001b[39;00m \u001b[38;5;167;01mIOError\u001b[39;00m(\u001b[38;5;124mf\u001b[39m\u001b[38;5;124m'\u001b[39m\u001b[38;5;124mNo file or directory found at \u001b[39m\u001b[38;5;132;01m{\u001b[39;00mfilepath_str\u001b[38;5;132;01m}\u001b[39;00m\u001b[38;5;124m'\u001b[39m)\n\u001b[0;32m    208\u001b[0m   \u001b[38;5;28;01mif\u001b[39;00m tf\u001b[38;5;241m.\u001b[39mio\u001b[38;5;241m.\u001b[39mgfile\u001b[38;5;241m.\u001b[39misdir(filepath_str):\n\u001b[0;32m    209\u001b[0m     \u001b[38;5;28;01mreturn\u001b[39;00m saved_model_load\u001b[38;5;241m.\u001b[39mload(filepath_str, \u001b[38;5;28mcompile\u001b[39m, options)\n",
      "\u001b[1;31mOSError\u001b[0m: No file or directory found at resnet_unet.h5"
     ]
    }
   ],
   "source": [
    "model = tf.keras.models.load_model(\"resnet_unet.h5\")"
   ]
  },
  {
   "cell_type": "code",
   "execution_count": null,
   "id": "ffaa981a",
   "metadata": {},
   "outputs": [],
   "source": [
    "H = 256\n",
    "W = 256"
   ]
  },
  {
   "cell_type": "code",
   "execution_count": null,
   "id": "1f34bbcf",
   "metadata": {},
   "outputs": [],
   "source": [
    "prev_frame_time = 0\n",
    "new_frame_time = 0"
   ]
  },
  {
   "cell_type": "code",
   "execution_count": null,
   "id": "2849860b",
   "metadata": {},
   "outputs": [],
   "source": [
    "imgBg = cv2.imread(\"bg/1.jpg\")\n",
    "listImg = os.listdir(\"bg\")\n",
    "indexImg = 0\n",
    "\n",
    "imgList = []\n",
    "for imgPath in listImg:\n",
    "    img = cv2.imread(f'bg/{imgPath}')\n",
    "    imgList.append(img)\n",
    "\n",
    "\n",
    "cap = cv2.VideoCapture(0)\n",
    "myframes = []\n",
    "loop_count = 0\n",
    "# loop through frame\n",
    "while cap.isOpened():\n",
    "    ret, frame = cap.read()\n",
    "\n",
    "    h, w, _ = frame.shape\n",
    "    ori_frame = frame\n",
    "\n",
    "    frame = cv2.resize(frame, (W, H))\n",
    "    frame = np.expand_dims(frame, axis=0)\n",
    "    frame = frame / 255.0\n",
    "\n",
    "    mask = model.predict(frame)[0]\n",
    "    mask = cv2.resize(mask, (w, h))\n",
    "    mask = mask > 0.5\n",
    "    mask = mask.astype(np.float32)\n",
    "    mask = np.expand_dims(mask, axis=-1)\n",
    "    \n",
    "    photo_mask = mask\n",
    "    background_mask = np.abs(1 - mask)\n",
    "\n",
    "    masked_frame = ori_frame * photo_mask\n",
    "\n",
    "    background_mask = np.concatenate([background_mask, background_mask, background_mask], axis=-1)\n",
    "    background_mask = background_mask * imgList[indexImg]\n",
    "    final_frame = masked_frame + background_mask\n",
    "    final_frame = final_frame.astype(np.uint8)\n",
    "    \n",
    "    \n",
    "    font = cv2.FONT_HERSHEY_SIMPLEX\n",
    "    new_frame_time = time.time()\n",
    "    fps = 1/(new_frame_time-prev_frame_time)\n",
    "    prev_frame_time = new_frame_time\n",
    "    fps = int(fps)\n",
    "    fps = str(fps)\n",
    "    \n",
    "    cv2.putText(final_frame, fps, (7, 70), font, 3, (100, 255, 0), 3, cv2.LINE_AA)\n",
    "    \n",
    "    \n",
    "#     while(loop_count < 4):\n",
    "#         myframes.append(final_frame)\n",
    "#         loop_count = loop_count + 1\n",
    "#     # show result to user on desktop\n",
    "    cv2.imshow('Bg replacement', final_frame)\n",
    "\n",
    "    # Break loop outcome\n",
    "    key = cv2.waitKey(1)\n",
    "    if key == ord('a'):\n",
    "        if indexImg > 0:\n",
    "            indexImg -= 1\n",
    "    elif key == ord('d'):\n",
    "        if indexImg < len(imgList) - 1:\n",
    "            indexImg += 1\n",
    "    elif key == ord('q'):\n",
    "        break\n",
    "\n",
    "# Releases webcam or caputer device\n",
    "cap.release()\n",
    "# Closes imshow frame\n",
    "\n",
    "cv2.destroyAllWindows()"
   ]
  },
  {
   "cell_type": "code",
   "execution_count": null,
   "id": "d4fb33c7",
   "metadata": {},
   "outputs": [],
   "source": [
    "# count = 0\n",
    "# fig, axes = plt.subplots(2, 2, figsize=(10, 8))\n",
    "\n",
    "# for idx, ax in enumerate(axes.flat):\n",
    "#     ax.imshow(cv2.cvtColor(myframes[count], cv2.COLOR_BGR2RGB))\n",
    "#     ax.set_title(f\"Frame {idx + 1}\")\n",
    "#     ax.axis(\"off\")\n",
    "#     count = count + 1\n",
    "\n",
    "# plt.show()"
   ]
  },
  {
   "cell_type": "code",
   "execution_count": null,
   "id": "13b73331",
   "metadata": {},
   "outputs": [],
   "source": [
    "\n"
   ]
  }
 ],
 "metadata": {
  "kernelspec": {
   "display_name": "Python 3 (ipykernel)",
   "language": "python",
   "name": "python3"
  },
  "language_info": {
   "codemirror_mode": {
    "name": "ipython",
    "version": 3
   },
   "file_extension": ".py",
   "mimetype": "text/x-python",
   "name": "python",
   "nbconvert_exporter": "python",
   "pygments_lexer": "ipython3",
   "version": "3.10.4"
  }
 },
 "nbformat": 4,
 "nbformat_minor": 5
}
