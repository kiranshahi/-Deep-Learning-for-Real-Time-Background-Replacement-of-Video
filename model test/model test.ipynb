{
 "cells": [
  {
   "cell_type": "code",
   "execution_count": 1,
   "id": "78e3fb79",
   "metadata": {},
   "outputs": [],
   "source": [
    "import tensorflow as tf\n",
    "import cv2\n",
    "import numpy as np\n",
    "import os\n",
    "import matplotlib.pyplot as plt\n",
    "import time"
   ]
  },
  {
   "cell_type": "code",
   "execution_count": 2,
   "id": "935561d6",
   "metadata": {},
   "outputs": [],
   "source": [
    "model = tf.keras.models.load_model(\"mobilev3_unet.h5\")"
   ]
  },
  {
   "cell_type": "code",
   "execution_count": 3,
   "id": "ffaa981a",
   "metadata": {},
   "outputs": [],
   "source": [
    "H = 560\n",
    "W = 560"
   ]
  },
  {
   "cell_type": "code",
   "execution_count": 4,
   "id": "2a27b6e8",
   "metadata": {},
   "outputs": [],
   "source": [
    "prev_frame_time = 0\n",
    "new_frame_time = 0"
   ]
  },
  {
   "cell_type": "code",
   "execution_count": null,
   "id": "2849860b",
   "metadata": {},
   "outputs": [],
   "source": [
    "imgBg = cv2.imread(\"bg/1.jpg\")\n",
    "listImg = os.listdir(\"bg\")\n",
    "indexImg = 0\n",
    "\n",
    "imgList = []\n",
    "for imgPath in listImg:\n",
    "    img = cv2.imread(f'bg/{imgPath}')\n",
    "    imgList.append(img)\n",
    "\n",
    "\n",
    "cap = cv2.VideoCapture(0)\n",
    "\n",
    "myframes = []\n",
    "loop_count = 0\n",
    "\n",
    "# loop through frame\n",
    "while cap.isOpened():\n",
    "    ret, frame = cap.read()\n",
    "\n",
    "    h, w, _ = frame.shape\n",
    "    ori_frame = frame\n",
    "\n",
    "    frame = cv2.resize(frame, (W, H))\n",
    "    frame = np.expand_dims(frame, axis=0)\n",
    "    frame = frame / 255.0\n",
    "\n",
    "    mask = model.predict(frame)[0]\n",
    "    mask = cv2.resize(mask, (w, h))\n",
    "    mask = mask > 0.5\n",
    "    mask = mask.astype(np.float32)\n",
    "    mask = np.expand_dims(mask, axis=-1)\n",
    "    \n",
    "    photo_mask = mask\n",
    "    background_mask = np.abs(1 - mask)\n",
    "\n",
    "    masked_frame = ori_frame * photo_mask\n",
    "\n",
    "    background_mask = np.concatenate([background_mask, background_mask, background_mask], axis=-1)\n",
    "    background_mask = background_mask * imgList[indexImg]\n",
    "    final_frame = masked_frame + background_mask\n",
    "    final_frame = final_frame.astype(np.uint8)\n",
    "    \n",
    "#     while(loop_count < 4):\n",
    "#         myframes.append(final_frame)\n",
    "#         loop_count = loop_count + 1\n",
    "\n",
    "    font = cv2.FONT_HERSHEY_SIMPLEX\n",
    "    new_frame_time = time.time()\n",
    "    fps = 1/(new_frame_time-prev_frame_time)\n",
    "    prev_frame_time = new_frame_time\n",
    "    fps = int(fps)\n",
    "    fps = str(fps)\n",
    "    \n",
    "    cv2.putText(final_frame, fps, (7, 70), font, 3, (100, 255, 0), 3, cv2.LINE_AA)\n",
    "        \n",
    "    # show result to user on desktop\n",
    "    cv2.imshow('Bg replacement', final_frame)\n",
    "\n",
    "    # Break loop outcome\n",
    "    key = cv2.waitKey(1)\n",
    "    if key == ord('a'):\n",
    "        if indexImg > 0:\n",
    "            indexImg -= 1\n",
    "    elif key == ord('d'):\n",
    "        if indexImg < len(imgList) - 1:\n",
    "            indexImg += 1\n",
    "    elif key == ord('q'):\n",
    "        break\n",
    "\n",
    "# Releases webcam or caputer device\n",
    "cap.release()\n",
    "# Closes imshow frame\n",
    "cv2.destroyAllWindows()"
   ]
  },
  {
   "cell_type": "code",
   "execution_count": null,
   "id": "d4fb33c7",
   "metadata": {},
   "outputs": [],
   "source": [
    "# count = 0\n",
    "# fig, axes = plt.subplots(2, 2, figsize=(10, 8))\n",
    "\n",
    "# for idx, ax in enumerate(axes.flat):\n",
    "#     ax.imshow(cv2.cvtColor(myframes[count], cv2.COLOR_BGR2RGB))\n",
    "#     ax.set_title(f\"Frame {idx + 1}\")\n",
    "#     ax.axis(\"off\")\n",
    "#     count = count + 1\n",
    "\n",
    "# plt.show()"
   ]
  }
 ],
 "metadata": {
  "kernelspec": {
   "display_name": "Python 3 (ipykernel)",
   "language": "python",
   "name": "python3"
  },
  "language_info": {
   "codemirror_mode": {
    "name": "ipython",
    "version": 3
   },
   "file_extension": ".py",
   "mimetype": "text/x-python",
   "name": "python",
   "nbconvert_exporter": "python",
   "pygments_lexer": "ipython3",
   "version": "3.10.4"
  }
 },
 "nbformat": 4,
 "nbformat_minor": 5
}
