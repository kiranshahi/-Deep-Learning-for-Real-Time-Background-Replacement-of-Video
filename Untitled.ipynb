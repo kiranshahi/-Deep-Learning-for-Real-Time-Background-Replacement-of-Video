{
 "cells": [
  {
   "cell_type": "code",
   "execution_count": 1,
   "id": "c6f30d32",
   "metadata": {},
   "outputs": [],
   "source": [
    "import os\n",
    "import numpy as np\n",
    "import cv2\n",
    "from glob import glob\n",
    "import tensorflow as tf\n",
    "import matplotlib.pyplot as plt\n",
    "from sklearn.model_selection import train_test_split\n",
    "from sklearn.utils import shuffle\n",
    "\n",
    "from tensorflow.keras.layers import Input, Conv2D, Activation, BatchNormalization, UpSampling2D, Input, Concatenate, DepthwiseConv2D, Add, ReLU\n",
    "from tensorflow.keras.models import Model\n",
    "from tensorflow.keras.applications import MobileNetV3Large, MobileNetV2\n",
    "\n",
    "from tensorflow.keras.callbacks import EarlyStopping, ReduceLROnPlateau\n",
    "from tensorflow.keras.metrics import Recall, Precision\n",
    "from tensorflow.keras import backend as K\n",
    "from tensorflow.keras.callbacks import ModelCheckpoint\n",
    "\n",
    "from tensorflow.keras.optimizers import SGD, Adam"
   ]
  },
  {
   "cell_type": "markdown",
   "id": "6ce79aac",
   "metadata": {},
   "source": [
    "## Function for bottleneck"
   ]
  },
  {
   "cell_type": "code",
   "execution_count": 2,
   "id": "8c63f910",
   "metadata": {},
   "outputs": [],
   "source": [
    "def UpsamplingBlock(x, nfilters):\n",
    "    x = Conv2D(kernel_size=1, filters=nfilters, padding ='same', use_bias=False)(x)\n",
    "    x = BatchNormalization(momentum=0.1, epsilon=1e-5)(x)\n",
    "    x = Activation(\"relu\")(x)\n",
    "    return x"
   ]
  },
  {
   "cell_type": "markdown",
   "id": "1a552c56",
   "metadata": {},
   "source": [
    "## Encoder"
   ]
  },
  {
   "cell_type": "code",
   "execution_count": 3,
   "id": "3c0d64c2",
   "metadata": {},
   "outputs": [
    {
     "name": "stdout",
     "output_type": "stream",
     "text": [
      "WARNING:tensorflow:`input_shape` is undefined or non-square, or `rows` is not 224. Weights for input shape (224, 224) will be loaded as the default.\n"
     ]
    }
   ],
   "source": [
    "encoder = MobileNetV3Large(input_shape=(256, 256, 3), weights=\"imagenet\", include_top=False)"
   ]
  },
  {
   "cell_type": "code",
   "execution_count": 4,
   "id": "92495088",
   "metadata": {},
   "outputs": [],
   "source": [
    "def LRASPP(x, out_channels = 128):\n",
    "    x1 = Conv2D(out_channels, 1, use_bias=False)(x)\n",
    "    x1 = BatchNormalization(momentum=0.1, epsilon=1e-5)(x1)\n",
    "    x1 = ReLU()(x1)\n",
    "    \n",
    "    x2 = Conv2D(out_channels, 1, use_bias=False, activation='sigmoid')(tf.reduce_mean(x, axis=[1, 2], keepdims=True))\n",
    "    return x1 * x2"
   ]
  },
  {
   "cell_type": "markdown",
   "id": "9da55d02",
   "metadata": {},
   "source": [
    "## Decoder layer"
   ]
  },
  {
   "cell_type": "code",
   "execution_count": 5,
   "id": "c1515c45",
   "metadata": {},
   "outputs": [],
   "source": [
    "x = encoder.layers[193].output\n",
    "x = LRASPP(x)"
   ]
  },
  {
   "cell_type": "code",
   "execution_count": 6,
   "id": "abef39a4",
   "metadata": {},
   "outputs": [],
   "source": [
    "x = UpsamplingBlock(x, 72)\n",
    "x = UpSampling2D(size=(2, 2), interpolation='bilinear')(x)\n",
    "x = Add()([x, encoder.layers[38].output])\n",
    "\n",
    "\n",
    "x = UpsamplingBlock(x, 72)\n",
    "x = UpSampling2D(size=(2, 2), interpolation='bilinear')(x)\n",
    "x = Add()([x, encoder.layers[34].output])\n",
    "\n",
    "\n",
    "x = UpsamplingBlock(x, 64)\n",
    "x = UpSampling2D(size=(2, 2), interpolation='bilinear')(x)\n",
    "x = Add()([x, encoder.layers[16].output])\n",
    "\n",
    "\n",
    "x = UpsamplingBlock(x, 16)\n",
    "x = UpSampling2D(size=(2, 2), interpolation='bilinear')(x)\n",
    "\n",
    "#x = UpSampling2D(size=(2, 2), interpolation='bilinear')(x)\n",
    "x = Conv2D(1, (1, 1), padding=\"same\", activation=\"sigmoid\")(x)\n",
    "\n",
    "model = Model(encoder.input, x)"
   ]
  },
  {
   "cell_type": "code",
   "execution_count": 7,
   "id": "8d8bb2e7",
   "metadata": {},
   "outputs": [],
   "source": [
    "smooth = 1e-15\n",
    "def dice_coef(y_true, y_pred):\n",
    "    y_true = tf.keras.layers.Flatten()(y_true)\n",
    "    y_pred = tf.keras.layers.Flatten()(y_pred)\n",
    "    intersection = tf.reduce_sum(y_true * y_pred)\n",
    "    return (2. * intersection + smooth) / (tf.reduce_sum(y_true) + tf.reduce_sum(y_pred) + smooth)\n",
    "\n",
    "def dice_loss(y_true, y_pred):\n",
    "    return 1.0 - dice_coef(y_true, y_pred)"
   ]
  },
  {
   "cell_type": "code",
   "execution_count": 8,
   "id": "75278220",
   "metadata": {},
   "outputs": [],
   "source": [
    "IMAGE_SIZE = 256\n",
    "EPOCHS = 50\n",
    "BATCH = 8\n",
    "LR = 1e-4\n",
    "model_path = \"./unet.h5\""
   ]
  },
  {
   "cell_type": "code",
   "execution_count": 9,
   "id": "25cbf8c7",
   "metadata": {},
   "outputs": [],
   "source": [
    "def shuffling(x, y):\n",
    "    x, y = shuffle(x, y, random_state=42)\n",
    "    return x, y"
   ]
  },
  {
   "cell_type": "code",
   "execution_count": 10,
   "id": "faaf35d7",
   "metadata": {},
   "outputs": [],
   "source": [
    "def load_data(dataset_path):\n",
    "    x = sorted(glob(os.path.join(dataset_path, \"image\", \"*png\")))\n",
    "    y = sorted(glob(os.path.join(dataset_path, \"mask\", \"*png\")))\n",
    "    return x, y"
   ]
  },
  {
   "cell_type": "code",
   "execution_count": 11,
   "id": "694f1d36",
   "metadata": {},
   "outputs": [],
   "source": [
    "opt = tf.keras.optimizers.Nadam(LR)\n",
    "metrics = [dice_coef, Recall(), Precision()]\n",
    "model.compile(loss=dice_loss, optimizer=opt, metrics=metrics)"
   ]
  },
  {
   "cell_type": "code",
   "execution_count": 12,
   "id": "911ec8ae",
   "metadata": {},
   "outputs": [],
   "source": [
    "dataset_path = \"../input/human-segmentation/new_data\"\n",
    "train_path = os.path.join(dataset_path, \"train\")\n",
    "valid_path = os.path.join(dataset_path, \"test\")"
   ]
  }
 ],
 "metadata": {
  "kernelspec": {
   "display_name": "Python 3 (ipykernel)",
   "language": "python",
   "name": "python3"
  },
  "language_info": {
   "codemirror_mode": {
    "name": "ipython",
    "version": 3
   },
   "file_extension": ".py",
   "mimetype": "text/x-python",
   "name": "python",
   "nbconvert_exporter": "python",
   "pygments_lexer": "ipython3",
   "version": "3.10.4"
  }
 },
 "nbformat": 4,
 "nbformat_minor": 5
}
