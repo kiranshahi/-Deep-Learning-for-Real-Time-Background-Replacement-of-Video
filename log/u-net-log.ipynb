{
 "cells": [
  {
   "cell_type": "code",
   "execution_count": 1,
   "metadata": {
    "_cell_guid": "b1076dfc-b9ad-4769-8c92-a6c4dae69d19",
    "_uuid": "8f2839f25d086af736a60e9eeb907d3b93b6e0e5",
    "execution": {
     "iopub.execute_input": "2022-08-16T10:53:40.056712Z",
     "iopub.status.busy": "2022-08-16T10:53:40.055725Z",
     "iopub.status.idle": "2022-08-16T10:53:40.071025Z",
     "shell.execute_reply": "2022-08-16T10:53:40.069979Z",
     "shell.execute_reply.started": "2022-08-16T10:53:40.056606Z"
    }
   },
   "outputs": [],
   "source": [
    "import pandas as pd\n",
    "import matplotlib.pyplot as plt"
   ]
  },
  {
   "cell_type": "code",
   "execution_count": 2,
   "metadata": {
    "execution": {
     "iopub.execute_input": "2022-08-16T10:53:40.077686Z",
     "iopub.status.busy": "2022-08-16T10:53:40.077227Z",
     "iopub.status.idle": "2022-08-16T10:53:40.105183Z",
     "shell.execute_reply": "2022-08-16T10:53:40.104093Z",
     "shell.execute_reply.started": "2022-08-16T10:53:40.077657Z"
    }
   },
   "outputs": [],
   "source": [
    "log = pd.read_csv('csv/unet.csv')"
   ]
  },
  {
   "cell_type": "code",
   "execution_count": 3,
   "metadata": {
    "execution": {
     "iopub.execute_input": "2022-08-16T10:53:40.107189Z",
     "iopub.status.busy": "2022-08-16T10:53:40.106852Z",
     "iopub.status.idle": "2022-08-16T10:53:40.133665Z",
     "shell.execute_reply": "2022-08-16T10:53:40.132364Z",
     "shell.execute_reply.started": "2022-08-16T10:53:40.107159Z"
    }
   },
   "outputs": [
    {
     "data": {
      "text/html": [
       "<div>\n",
       "<style scoped>\n",
       "    .dataframe tbody tr th:only-of-type {\n",
       "        vertical-align: middle;\n",
       "    }\n",
       "\n",
       "    .dataframe tbody tr th {\n",
       "        vertical-align: top;\n",
       "    }\n",
       "\n",
       "    .dataframe thead th {\n",
       "        text-align: right;\n",
       "    }\n",
       "</style>\n",
       "<table border=\"1\" class=\"dataframe\">\n",
       "  <thead>\n",
       "    <tr style=\"text-align: right;\">\n",
       "      <th></th>\n",
       "      <th>epoch</th>\n",
       "      <th>dice_coef</th>\n",
       "      <th>loss</th>\n",
       "      <th>lr</th>\n",
       "      <th>mad</th>\n",
       "      <th>mean_io_u</th>\n",
       "      <th>mean_squared_error</th>\n",
       "      <th>val_dice_coef</th>\n",
       "      <th>val_loss</th>\n",
       "      <th>val_mad</th>\n",
       "      <th>val_mean_io_u</th>\n",
       "      <th>val_mean_squared_error</th>\n",
       "    </tr>\n",
       "  </thead>\n",
       "  <tbody>\n",
       "    <tr>\n",
       "      <th>0</th>\n",
       "      <td>0</td>\n",
       "      <td>0.734850</td>\n",
       "      <td>0.265076</td>\n",
       "      <td>1.000000e-04</td>\n",
       "      <td>0.228485</td>\n",
       "      <td>0.303518</td>\n",
       "      <td>0.214903</td>\n",
       "      <td>0.787677</td>\n",
       "      <td>0.212311</td>\n",
       "      <td>0.162460</td>\n",
       "      <td>0.304386</td>\n",
       "      <td>0.158318</td>\n",
       "    </tr>\n",
       "    <tr>\n",
       "      <th>1</th>\n",
       "      <td>1</td>\n",
       "      <td>0.813050</td>\n",
       "      <td>0.186779</td>\n",
       "      <td>1.000000e-04</td>\n",
       "      <td>0.151423</td>\n",
       "      <td>0.303676</td>\n",
       "      <td>0.147789</td>\n",
       "      <td>0.827547</td>\n",
       "      <td>0.172444</td>\n",
       "      <td>0.141425</td>\n",
       "      <td>0.304386</td>\n",
       "      <td>0.138435</td>\n",
       "    </tr>\n",
       "    <tr>\n",
       "      <th>2</th>\n",
       "      <td>2</td>\n",
       "      <td>0.849512</td>\n",
       "      <td>0.150493</td>\n",
       "      <td>1.000000e-04</td>\n",
       "      <td>0.120535</td>\n",
       "      <td>0.310818</td>\n",
       "      <td>0.117834</td>\n",
       "      <td>0.831035</td>\n",
       "      <td>0.168959</td>\n",
       "      <td>0.122220</td>\n",
       "      <td>0.304409</td>\n",
       "      <td>0.119536</td>\n",
       "    </tr>\n",
       "    <tr>\n",
       "      <th>3</th>\n",
       "      <td>3</td>\n",
       "      <td>0.867979</td>\n",
       "      <td>0.131994</td>\n",
       "      <td>1.000000e-04</td>\n",
       "      <td>0.104508</td>\n",
       "      <td>0.336123</td>\n",
       "      <td>0.102174</td>\n",
       "      <td>0.865054</td>\n",
       "      <td>0.134950</td>\n",
       "      <td>0.110140</td>\n",
       "      <td>0.336231</td>\n",
       "      <td>0.107845</td>\n",
       "    </tr>\n",
       "    <tr>\n",
       "      <th>4</th>\n",
       "      <td>4</td>\n",
       "      <td>0.881794</td>\n",
       "      <td>0.118204</td>\n",
       "      <td>1.000000e-04</td>\n",
       "      <td>0.092861</td>\n",
       "      <td>0.375000</td>\n",
       "      <td>0.090913</td>\n",
       "      <td>0.855058</td>\n",
       "      <td>0.144934</td>\n",
       "      <td>0.105189</td>\n",
       "      <td>0.379223</td>\n",
       "      <td>0.103056</td>\n",
       "    </tr>\n",
       "    <tr>\n",
       "      <th>...</th>\n",
       "      <td>...</td>\n",
       "      <td>...</td>\n",
       "      <td>...</td>\n",
       "      <td>...</td>\n",
       "      <td>...</td>\n",
       "      <td>...</td>\n",
       "      <td>...</td>\n",
       "      <td>...</td>\n",
       "      <td>...</td>\n",
       "      <td>...</td>\n",
       "      <td>...</td>\n",
       "      <td>...</td>\n",
       "    </tr>\n",
       "    <tr>\n",
       "      <th>63</th>\n",
       "      <td>63</td>\n",
       "      <td>0.988410</td>\n",
       "      <td>0.011589</td>\n",
       "      <td>1.000000e-07</td>\n",
       "      <td>0.008769</td>\n",
       "      <td>0.941856</td>\n",
       "      <td>0.008566</td>\n",
       "      <td>0.966394</td>\n",
       "      <td>0.033597</td>\n",
       "      <td>0.025603</td>\n",
       "      <td>0.928924</td>\n",
       "      <td>0.025257</td>\n",
       "    </tr>\n",
       "    <tr>\n",
       "      <th>64</th>\n",
       "      <td>64</td>\n",
       "      <td>0.988414</td>\n",
       "      <td>0.011578</td>\n",
       "      <td>1.000000e-07</td>\n",
       "      <td>0.008768</td>\n",
       "      <td>0.943140</td>\n",
       "      <td>0.008566</td>\n",
       "      <td>0.966450</td>\n",
       "      <td>0.033549</td>\n",
       "      <td>0.025609</td>\n",
       "      <td>0.923705</td>\n",
       "      <td>0.025265</td>\n",
       "    </tr>\n",
       "    <tr>\n",
       "      <th>65</th>\n",
       "      <td>65</td>\n",
       "      <td>0.988419</td>\n",
       "      <td>0.011580</td>\n",
       "      <td>1.000000e-07</td>\n",
       "      <td>0.008772</td>\n",
       "      <td>0.940064</td>\n",
       "      <td>0.008569</td>\n",
       "      <td>0.965881</td>\n",
       "      <td>0.034123</td>\n",
       "      <td>0.025639</td>\n",
       "      <td>0.926009</td>\n",
       "      <td>0.025300</td>\n",
       "    </tr>\n",
       "    <tr>\n",
       "      <th>66</th>\n",
       "      <td>66</td>\n",
       "      <td>0.988459</td>\n",
       "      <td>0.011539</td>\n",
       "      <td>1.000000e-07</td>\n",
       "      <td>0.008767</td>\n",
       "      <td>0.942094</td>\n",
       "      <td>0.008564</td>\n",
       "      <td>0.966311</td>\n",
       "      <td>0.033694</td>\n",
       "      <td>0.025580</td>\n",
       "      <td>0.928532</td>\n",
       "      <td>0.025243</td>\n",
       "    </tr>\n",
       "    <tr>\n",
       "      <th>67</th>\n",
       "      <td>67</td>\n",
       "      <td>0.988504</td>\n",
       "      <td>0.011495</td>\n",
       "      <td>1.000000e-07</td>\n",
       "      <td>0.008757</td>\n",
       "      <td>0.942473</td>\n",
       "      <td>0.008553</td>\n",
       "      <td>0.966375</td>\n",
       "      <td>0.033627</td>\n",
       "      <td>0.025613</td>\n",
       "      <td>0.926321</td>\n",
       "      <td>0.025274</td>\n",
       "    </tr>\n",
       "  </tbody>\n",
       "</table>\n",
       "<p>68 rows × 12 columns</p>\n",
       "</div>"
      ],
      "text/plain": [
       "    epoch  dice_coef      loss            lr       mad  mean_io_u  \\\n",
       "0       0   0.734850  0.265076  1.000000e-04  0.228485   0.303518   \n",
       "1       1   0.813050  0.186779  1.000000e-04  0.151423   0.303676   \n",
       "2       2   0.849512  0.150493  1.000000e-04  0.120535   0.310818   \n",
       "3       3   0.867979  0.131994  1.000000e-04  0.104508   0.336123   \n",
       "4       4   0.881794  0.118204  1.000000e-04  0.092861   0.375000   \n",
       "..    ...        ...       ...           ...       ...        ...   \n",
       "63     63   0.988410  0.011589  1.000000e-07  0.008769   0.941856   \n",
       "64     64   0.988414  0.011578  1.000000e-07  0.008768   0.943140   \n",
       "65     65   0.988419  0.011580  1.000000e-07  0.008772   0.940064   \n",
       "66     66   0.988459  0.011539  1.000000e-07  0.008767   0.942094   \n",
       "67     67   0.988504  0.011495  1.000000e-07  0.008757   0.942473   \n",
       "\n",
       "    mean_squared_error  val_dice_coef  val_loss   val_mad  val_mean_io_u  \\\n",
       "0             0.214903       0.787677  0.212311  0.162460       0.304386   \n",
       "1             0.147789       0.827547  0.172444  0.141425       0.304386   \n",
       "2             0.117834       0.831035  0.168959  0.122220       0.304409   \n",
       "3             0.102174       0.865054  0.134950  0.110140       0.336231   \n",
       "4             0.090913       0.855058  0.144934  0.105189       0.379223   \n",
       "..                 ...            ...       ...       ...            ...   \n",
       "63            0.008566       0.966394  0.033597  0.025603       0.928924   \n",
       "64            0.008566       0.966450  0.033549  0.025609       0.923705   \n",
       "65            0.008569       0.965881  0.034123  0.025639       0.926009   \n",
       "66            0.008564       0.966311  0.033694  0.025580       0.928532   \n",
       "67            0.008553       0.966375  0.033627  0.025613       0.926321   \n",
       "\n",
       "    val_mean_squared_error  \n",
       "0                 0.158318  \n",
       "1                 0.138435  \n",
       "2                 0.119536  \n",
       "3                 0.107845  \n",
       "4                 0.103056  \n",
       "..                     ...  \n",
       "63                0.025257  \n",
       "64                0.025265  \n",
       "65                0.025300  \n",
       "66                0.025243  \n",
       "67                0.025274  \n",
       "\n",
       "[68 rows x 12 columns]"
      ]
     },
     "execution_count": 3,
     "metadata": {},
     "output_type": "execute_result"
    }
   ],
   "source": [
    "log"
   ]
  },
  {
   "cell_type": "code",
   "execution_count": 4,
   "metadata": {
    "execution": {
     "iopub.execute_input": "2022-08-16T10:53:40.136372Z",
     "iopub.status.busy": "2022-08-16T10:53:40.135932Z",
     "iopub.status.idle": "2022-08-16T10:53:40.385135Z",
     "shell.execute_reply": "2022-08-16T10:53:40.383859Z",
     "shell.execute_reply.started": "2022-08-16T10:53:40.136339Z"
    }
   },
   "outputs": [
    {
     "data": {
      "image/png": "[encoded data removed]",
      "text/plain": [
       "<Figure size 432x288 with 1 Axes>"
      ]
     },
     "metadata": {
      "needs_background": "light"
     },
     "output_type": "display_data"
    }
   ],
   "source": [
    "plt.plot(log['loss'], label='loss')\n",
    "plt.plot(log['val_loss'], label='val_loss')\n",
    "plt.ylim([0, 0.3])\n",
    "plt.xlabel('Epoch')\n",
    "plt.ylabel('Dice loss')\n",
    "plt.legend()\n",
    "plt.grid(True)"
   ]
  },
  {
   "cell_type": "code",
   "execution_count": 5,
   "metadata": {
    "execution": {
     "iopub.execute_input": "2022-08-16T10:53:40.386947Z",
     "iopub.status.busy": "2022-08-16T10:53:40.386571Z",
     "iopub.status.idle": "2022-08-16T10:53:40.615524Z",
     "shell.execute_reply": "2022-08-16T10:53:40.614022Z",
     "shell.execute_reply.started": "2022-08-16T10:53:40.386910Z"
    }
   },
   "outputs": [
    {
     "data": {
      "image/png": "[encoded data removed]",
      "text/plain": [
       "<Figure size 432x288 with 1 Axes>"
      ]
     },
     "metadata": {
      "needs_background": "light"
     },
     "output_type": "display_data"
    }
   ],
   "source": [
    "plt.plot(log['lr'], label='Learning Rate')\n",
    "plt.ylim([0, 0.00012])\n",
    "plt.xlabel('Epoch')\n",
    "plt.ylabel('Learning Rate')\n",
    "plt.legend()\n",
    "plt.grid(True)"
   ]
  },
  {
   "cell_type": "code",
   "execution_count": 6,
   "metadata": {
    "execution": {
     "iopub.execute_input": "2022-08-16T10:53:40.619573Z",
     "iopub.status.busy": "2022-08-16T10:53:40.618618Z",
     "iopub.status.idle": "2022-08-16T10:53:40.848670Z",
     "shell.execute_reply": "2022-08-16T10:53:40.847491Z",
     "shell.execute_reply.started": "2022-08-16T10:53:40.619527Z"
    }
   },
   "outputs": [
    {
     "data": {
      "image/png": "[encoded data removed]",
      "text/plain": [
       "<Figure size 432x288 with 1 Axes>"
      ]
     },
     "metadata": {
      "needs_background": "light"
     },
     "output_type": "display_data"
    }
   ],
   "source": [
    "plt.plot(log['mean_squared_error'], label='MSE')\n",
    "plt.plot(log['val_mean_squared_error'], label='Val MSE')\n",
    "plt.ylim([0, 0.25])\n",
    "plt.xlabel('Epoch')\n",
    "plt.ylabel('Mean Squared Error')\n",
    "plt.legend()\n",
    "plt.grid(True)"
   ]
  },
  {
   "cell_type": "code",
   "execution_count": null,
   "metadata": {},
   "outputs": [],
   "source": []
  }
 ],
 "metadata": {
  "kernelspec": {
   "display_name": "Python 3 (ipykernel)",
   "language": "python",
   "name": "python3"
  },
  "language_info": {
   "codemirror_mode": {
    "name": "ipython",
    "version": 3
   },
   "file_extension": ".py",
   "mimetype": "text/x-python",
   "name": "python",
   "nbconvert_exporter": "python",
   "pygments_lexer": "ipython3",
   "version": "3.10.4"
  }
 },
 "nbformat": 4,
 "nbformat_minor": 4
}
