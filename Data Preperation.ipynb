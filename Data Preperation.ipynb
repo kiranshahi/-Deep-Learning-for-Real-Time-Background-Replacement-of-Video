{
 "cells": [
  {
   "cell_type": "code",
   "execution_count": null,
   "id": "35b55d83",
   "metadata": {},
   "outputs": [],
   "source": [
    "D:\\dissertation\\datasets\\VideoMatte240K_JPEG_SD\\VideoMatte240K_JPEG_SD\\train\\fgr"
   ]
  }
 ],
 "metadata": {
  "kernelspec": {
   "display_name": "Python 3 (ipykernel)",
   "language": "python",
   "name": "python3"
  },
  "language_info": {
   "codemirror_mode": {
    "name": "ipython",
    "version": 3
   },
   "file_extension": ".py",
   "mimetype": "text/x-python",
   "name": "python",
   "nbconvert_exporter": "python",
   "pygments_lexer": "ipython3",
   "version": "3.10.4"
  }
 },
 "nbformat": 4,
 "nbformat_minor": 5
}
