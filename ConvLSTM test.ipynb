{
 "cells": [
  {
   "cell_type": "code",
   "execution_count": 1,
   "id": "92dd06a4",
   "metadata": {},
   "outputs": [],
   "source": [
    "import tensorflow as tf\n",
    "from glob import glob\n",
    "import os\n",
    "from sklearn.model_selection import train_test_split\n",
    "import pandas as pd\n",
    "import cv2\n",
    "import numpy as np"
   ]
  },
  {
   "cell_type": "code",
   "execution_count": 2,
   "id": "57789b98",
   "metadata": {},
   "outputs": [],
   "source": [
    "def load_data(dataset_path):\n",
    "    images = sorted(glob(os.path.join(\"data\", \"train\", \"pha\", \"laptop_a0005_indoor\") +\"/*\"))\n",
    "    masks = sorted(glob(os.path.join(\"data\\\\train\\\\fgr\\\\laptop_a0005_indoor\") + \"/*\"))\n",
    "    images\n",
    "    return images, masks"
   ]
  },
  {
   "cell_type": "code",
   "execution_count": 3,
   "id": "1a5d3043",
   "metadata": {},
   "outputs": [],
   "source": [
    "def read_image(path):\n",
    "    x = cv2.imread(path, cv2.IMREAD_COLOR)\n",
    "    x = cv2.resize(x, (256, 256))\n",
    "    x = x/255.0\n",
    "    x = x.astype(np.float32)\n",
    "    # (256, 256, 3)\n",
    "    return x"
   ]
  },
  {
   "cell_type": "code",
   "execution_count": 4,
   "id": "906577ac",
   "metadata": {},
   "outputs": [],
   "source": [
    "def read_mask(path):\n",
    "    x = cv2.imread(path, cv2.IMREAD_GRAYSCALE)\n",
    "    x = cv2.resize(x, (256, 256))\n",
    "    x = x.astype(np.float32)\n",
    "    x = np.expand_dims(x, axis=-1)\n",
    "    return x"
   ]
  },
  {
   "cell_type": "code",
   "execution_count": 5,
   "id": "05877ff4",
   "metadata": {},
   "outputs": [],
   "source": [
    "def preprocess(image_path, mask_path):\n",
    "    def f(image_path, mask_path):\n",
    "        image_path = image_path.decode()\n",
    "        mask_path = mask_path.decode()\n",
    "        x = read_image(image_path)\n",
    "        y = read_mask(mask_path)\n",
    "        return x, y\n",
    "    image, mask = tf.numpy_function(f, [image_path, mask_path], [tf.float32, tf.float32])\n",
    "    image.set_shape([256, 256, 3])\n",
    "    mask.set_shape([256, 256, 1])\n",
    "    return image, mask"
   ]
  },
  {
   "cell_type": "code",
   "execution_count": 6,
   "id": "23f231d0",
   "metadata": {},
   "outputs": [],
   "source": [
    "def tf_dataset(images, masks, batch=30):\n",
    "    dataset = tf.data.Dataset.from_tensor_slices((images, masks))\n",
    "    dataset = dataset.shuffle(buffer_size=5000)\n",
    "    dataset = dataset.map(preprocess)\n",
    "    dataset = dataset.batch(batch)\n",
    "    dataset = dataset.prefetch(2)\n",
    "    return dataset"
   ]
  },
  {
   "cell_type": "code",
   "execution_count": 7,
   "id": "991a8fcd",
   "metadata": {},
   "outputs": [],
   "source": [
    "#dataset_path = \"../input/person-segmentation/people_segmentation\"\n",
    "dataset_path =\"D:\\\\dissertation\\\\code\\\\\"\n",
    "batch_size = 30"
   ]
  },
  {
   "cell_type": "code",
   "execution_count": 8,
   "id": "11954b5a",
   "metadata": {},
   "outputs": [],
   "source": [
    " ds =  pd.read_csv(\"data.csv\")"
   ]
  },
  {
   "cell_type": "code",
   "execution_count": 9,
   "id": "1f9c5d80",
   "metadata": {},
   "outputs": [
    {
     "data": {
      "text/html": [
       "<div>\n",
       "<style scoped>\n",
       "    .dataframe tbody tr th:only-of-type {\n",
       "        vertical-align: middle;\n",
       "    }\n",
       "\n",
       "    .dataframe tbody tr th {\n",
       "        vertical-align: top;\n",
       "    }\n",
       "\n",
       "    .dataframe thead th {\n",
       "        text-align: right;\n",
       "    }\n",
       "</style>\n",
       "<table border=\"1\" class=\"dataframe\">\n",
       "  <thead>\n",
       "    <tr style=\"text-align: right;\">\n",
       "      <th></th>\n",
       "      <th>image</th>\n",
       "      <th>mask</th>\n",
       "    </tr>\n",
       "  </thead>\n",
       "  <tbody>\n",
       "    <tr>\n",
       "      <th>0</th>\n",
       "      <td>D:\\dissertation\\code\\data\\train\\fgr\\laptop_a00...</td>\n",
       "      <td>D:\\dissertation\\code\\data\\train\\pha\\laptop_a00...</td>\n",
       "    </tr>\n",
       "    <tr>\n",
       "      <th>1</th>\n",
       "      <td>D:\\dissertation\\code\\data\\train\\fgr\\laptop_a00...</td>\n",
       "      <td>D:\\dissertation\\code\\data\\train\\pha\\laptop_a00...</td>\n",
       "    </tr>\n",
       "    <tr>\n",
       "      <th>2</th>\n",
       "      <td>D:\\dissertation\\code\\data\\train\\fgr\\laptop_a00...</td>\n",
       "      <td>D:\\dissertation\\code\\data\\train\\pha\\laptop_a00...</td>\n",
       "    </tr>\n",
       "    <tr>\n",
       "      <th>3</th>\n",
       "      <td>D:\\dissertation\\code\\data\\train\\fgr\\laptop_a00...</td>\n",
       "      <td>D:\\dissertation\\code\\data\\train\\pha\\laptop_a00...</td>\n",
       "    </tr>\n",
       "    <tr>\n",
       "      <th>4</th>\n",
       "      <td>D:\\dissertation\\code\\data\\train\\fgr\\laptop_a00...</td>\n",
       "      <td>D:\\dissertation\\code\\data\\train\\pha\\laptop_a00...</td>\n",
       "    </tr>\n",
       "    <tr>\n",
       "      <th>...</th>\n",
       "      <td>...</td>\n",
       "      <td>...</td>\n",
       "    </tr>\n",
       "    <tr>\n",
       "      <th>145</th>\n",
       "      <td>D:\\dissertation\\code\\data\\train\\fgr\\laptop_a00...</td>\n",
       "      <td>D:\\dissertation\\code\\data\\train\\pha\\laptop_a00...</td>\n",
       "    </tr>\n",
       "    <tr>\n",
       "      <th>146</th>\n",
       "      <td>D:\\dissertation\\code\\data\\train\\fgr\\laptop_a00...</td>\n",
       "      <td>D:\\dissertation\\code\\data\\train\\pha\\laptop_a00...</td>\n",
       "    </tr>\n",
       "    <tr>\n",
       "      <th>147</th>\n",
       "      <td>D:\\dissertation\\code\\data\\train\\fgr\\laptop_a00...</td>\n",
       "      <td>D:\\dissertation\\code\\data\\train\\pha\\laptop_a00...</td>\n",
       "    </tr>\n",
       "    <tr>\n",
       "      <th>148</th>\n",
       "      <td>D:\\dissertation\\code\\data\\train\\fgr\\laptop_a00...</td>\n",
       "      <td>D:\\dissertation\\code\\data\\train\\pha\\laptop_a00...</td>\n",
       "    </tr>\n",
       "    <tr>\n",
       "      <th>149</th>\n",
       "      <td>D:\\dissertation\\code\\data\\train\\fgr\\laptop_a00...</td>\n",
       "      <td>D:\\dissertation\\code\\data\\train\\pha\\laptop_a00...</td>\n",
       "    </tr>\n",
       "  </tbody>\n",
       "</table>\n",
       "<p>150 rows × 2 columns</p>\n",
       "</div>"
      ],
      "text/plain": [
       "                                                 image  \\\n",
       "0    D:\\dissertation\\code\\data\\train\\fgr\\laptop_a00...   \n",
       "1    D:\\dissertation\\code\\data\\train\\fgr\\laptop_a00...   \n",
       "2    D:\\dissertation\\code\\data\\train\\fgr\\laptop_a00...   \n",
       "3    D:\\dissertation\\code\\data\\train\\fgr\\laptop_a00...   \n",
       "4    D:\\dissertation\\code\\data\\train\\fgr\\laptop_a00...   \n",
       "..                                                 ...   \n",
       "145  D:\\dissertation\\code\\data\\train\\fgr\\laptop_a00...   \n",
       "146  D:\\dissertation\\code\\data\\train\\fgr\\laptop_a00...   \n",
       "147  D:\\dissertation\\code\\data\\train\\fgr\\laptop_a00...   \n",
       "148  D:\\dissertation\\code\\data\\train\\fgr\\laptop_a00...   \n",
       "149  D:\\dissertation\\code\\data\\train\\fgr\\laptop_a00...   \n",
       "\n",
       "                                                  mask  \n",
       "0    D:\\dissertation\\code\\data\\train\\pha\\laptop_a00...  \n",
       "1    D:\\dissertation\\code\\data\\train\\pha\\laptop_a00...  \n",
       "2    D:\\dissertation\\code\\data\\train\\pha\\laptop_a00...  \n",
       "3    D:\\dissertation\\code\\data\\train\\pha\\laptop_a00...  \n",
       "4    D:\\dissertation\\code\\data\\train\\pha\\laptop_a00...  \n",
       "..                                                 ...  \n",
       "145  D:\\dissertation\\code\\data\\train\\pha\\laptop_a00...  \n",
       "146  D:\\dissertation\\code\\data\\train\\pha\\laptop_a00...  \n",
       "147  D:\\dissertation\\code\\data\\train\\pha\\laptop_a00...  \n",
       "148  D:\\dissertation\\code\\data\\train\\pha\\laptop_a00...  \n",
       "149  D:\\dissertation\\code\\data\\train\\pha\\laptop_a00...  \n",
       "\n",
       "[150 rows x 2 columns]"
      ]
     },
     "execution_count": 9,
     "metadata": {},
     "output_type": "execute_result"
    }
   ],
   "source": [
    "ds"
   ]
  },
  {
   "cell_type": "code",
   "execution_count": 10,
   "id": "42fcb31c",
   "metadata": {},
   "outputs": [],
   "source": [
    "#train_x, train_y = load_data(\"dataset_path\")\n",
    "\n",
    "train_dataset = tf_dataset(ds['image'].tolist(), ds['mask'].tolist(), batch=batch_size)\n",
    "#valid_dataset = tf_dataset(test_x, test_y, batch=batch_size)"
   ]
  },
  {
   "cell_type": "code",
   "execution_count": null,
   "id": "7a866e1e",
   "metadata": {},
   "outputs": [],
   "source": []
  }
 ],
 "metadata": {
  "kernelspec": {
   "display_name": "Python 3 (ipykernel)",
   "language": "python",
   "name": "python3"
  },
  "language_info": {
   "codemirror_mode": {
    "name": "ipython",
    "version": 3
   },
   "file_extension": ".py",
   "mimetype": "text/x-python",
   "name": "python",
   "nbconvert_exporter": "python",
   "pygments_lexer": "ipython3",
   "version": "3.10.4"
  }
 },
 "nbformat": 4,
 "nbformat_minor": 5
}
